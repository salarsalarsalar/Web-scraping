{
 "cells": [
  {
   "cell_type": "code",
   "execution_count": 1,
   "id": "a75abe5f-293a-4a8c-b8c3-c6d1e7a7c468",
   "metadata": {},
   "outputs": [
    {
     "name": "stdout",
     "output_type": "stream",
     "text": [
      "File opened successfully\n"
     ]
    }
   ],
   "source": [
    "import pandas as pd\n",
    "\n",
    "# Read CSV file\n",
    "\n",
    "try:\n",
    "    with open(r\"C:\\Apache24\\htdocs\\DAV_project\\utterances.csv\", \"r\") as file:\n",
    "        print(\"File opened successfully\")\n",
    "except Exception as e:\n",
    "    print(f\"Error opening file: {e}\")\n",
    "# df = pd.read_csv(\"C:\\Apache24\\htdocs\\DAV_project\\utterances.csv\")\n",
    "\n",
    "# # Sample 100 rows randomly\n",
    "# sample_df = df.sample(n=100, random_state=42)\n",
    "\n",
    "# # Now you can work with sample_df\n",
    "# print(sample_df.head())  # Print the first few rows of the sampled data\n",
    "\n",
    "\n",
    "# # Save the sampled DataFrame to a new CSV file\n",
    "# sample_df.to_csv('/Users/minahilashfaq/Desktop/outputfile.csv', index=False)"
   ]
  }
 ],
 "metadata": {
  "kernelspec": {
   "display_name": "Python 3",
   "language": "python",
   "name": "python3"
  },
  "language_info": {
   "codemirror_mode": {
    "name": "ipython",
    "version": 3
   },
   "file_extension": ".py",
   "mimetype": "text/x-python",
   "name": "python",
   "nbconvert_exporter": "python",
   "pygments_lexer": "ipython3",
   "version": "3.8.8"
  }
 },
 "nbformat": 4,
 "nbformat_minor": 5
}
