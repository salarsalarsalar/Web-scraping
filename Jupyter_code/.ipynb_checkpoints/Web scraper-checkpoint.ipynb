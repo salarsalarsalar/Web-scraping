{
 "cells": [
  {
   "cell_type": "code",
   "execution_count": 2,
   "id": "a281a2ac",
   "metadata": {},
   "outputs": [],
   "source": [
    "import requests\n",
    "from bs4 import BeautifulSoup\n",
    "\n",
    "# URL of the BBC News website\n",
    "url = 'https://www.bbc.com/news'\n",
    "\n",
    "# Send a GET request to the URL\n",
    "response = requests.get(url)\n",
    "\n",
    "# Parse the HTML content of the webpage\n",
    "soup = BeautifulSoup(response.text, 'html.parser')\n",
    "\n",
    "# Find all the top story elements\n",
    "top_stories = soup.find_all('div', class_='gs-c-promo-body gel-1/2@xs gel-1/1@m gel-1/3@xl')\n",
    "\n",
    "# Extract the titles and links of the top stories and print them\n",
    "for story in top_stories:\n",
    "    title_element = story.find('h3', class_='gs-c-promo-heading__title gel-pica-bold nw-o-link-split__text')\n",
    "    link_element = story.find('a', class_='gs-c-promo-heading')\n",
    "    if title_element and link_element:\n",
    "        title = title_element.text.strip()\n",
    "        link = link_element['href']\n",
    "        print(f\"Title: {title}\\nLink: {link}\\n\")"
   ]
  },
  {
   "cell_type": "code",
   "execution_count": 3,
   "id": "3dbaf626",
   "metadata": {},
   "outputs": [
    {
     "data": {
      "text/plain": [
       "[]"
      ]
     },
     "execution_count": 3,
     "metadata": {},
     "output_type": "execute_result"
    }
   ],
   "source": [
    "top_stories"
   ]
  },
  {
   "cell_type": "code",
   "execution_count": 5,
   "id": "15bc17da",
   "metadata": {},
   "outputs": [],
   "source": [
    "from selenium import webdriver\n",
    "from selenium.webdriver.common.keys import Keys\n",
    "import pandas as pd"
   ]
  },
  {
   "cell_type": "code",
   "execution_count": 7,
   "id": "7c29ed19",
   "metadata": {},
   "outputs": [],
   "source": [
    "# from selenium import webdriver\n",
    "\n",
    "# webdriver_path = r\"C:\\Users\\Minahil Ashfaq\\OneDrive\\Documents\\chromedriver.exe\"\n",
    "# driver = webdriver.Chrome(executable_path=webdriver_path)\n"
   ]
  },
  {
   "cell_type": "code",
   "execution_count": null,
   "id": "043875ef",
   "metadata": {},
   "outputs": [],
   "source": [
    "df = pd.DataFrame(columns=['Player','Salary','Year']) # creates master dataframe \n",
    "\n",
    "driver = webdriver.Chrome(r\"C:\\Users\\Minahil Ashfaq\\OneDrive\\Documents\\chromedriver.exe\")\n",
    "\n",
    "for yr in range(1990,2019):\n",
    "    page_num = str(yr) + '-' + str(yr+1) +'/'\n",
    "    url = 'https://hoopshype.com/salaries/players/' + page_num\n",
    "    driver.get(url)\n",
    "    \n",
    "    players = driver.find_elements_by_xpath('//td[@class=\"name\"]')\n",
    "    salaries = driver.find_elements_by_xpath('//td[@class=\"hh-salaries-sorted\"]') \n",
    "    \n",
    "    players_list = []\n",
    "    for p in range(len(players)):\n",
    "        players_list.append(players[p].text)\n",
    "    \n",
    "    salaries_list = []\n",
    "    for s in range(len(salaries)):\n",
    "        salaries_list.append(salaries[s].text)\n",
    "    \n",
    "    data_tuples = list(zip(players_list[1:],salaries_list[1:])) # list of each players name and salary paired together\n",
    "    temp_df = pd.DataFrame(data_tuples, columns=['Player','Salary']) # creates dataframe of each tuple in list\n",
    "    temp_df['Year'] = yr # adds season beginning year to each dataframe\n",
    "    df = df.append(temp_df) # appends to master dataframe\n",
    "    \n",
    "driver.close()"
   ]
  }
 ],
 "metadata": {
  "kernelspec": {
   "display_name": "Python 3",
   "language": "python",
   "name": "python3"
  },
  "language_info": {
   "codemirror_mode": {
    "name": "ipython",
    "version": 3
   },
   "file_extension": ".py",
   "mimetype": "text/x-python",
   "name": "python",
   "nbconvert_exporter": "python",
   "pygments_lexer": "ipython3",
   "version": "3.8.8"
  }
 },
 "nbformat": 4,
 "nbformat_minor": 5
}
