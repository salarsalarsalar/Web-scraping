{
 "cells": [
  {
   "cell_type": "code",
   "execution_count": 2,
   "id": "0f9a110c",
   "metadata": {},
   "outputs": [],
   "source": [
    "from selenium import webdriver\n",
    "from selenium.webdriver.common.by import By\n",
    "from selenium.webdriver.common.action_chains import ActionChains\n",
    "from selenium.webdriver.support import expected_conditions\n",
    "from selenium.webdriver.support.wait import WebDriverWait\n",
    "from selenium.webdriver.common.keys import Keys\n",
    "from selenium.webdriver.common.desired_capabilities import DesiredCapabilities"
   ]
  },
  {
   "cell_type": "code",
   "execution_count": 3,
   "id": "6bc5151e",
   "metadata": {},
   "outputs": [],
   "source": [
    "driver = webdriver.Firefox()"
   ]
  },
  {
   "cell_type": "code",
   "execution_count": 1,
   "id": "b3b82443",
   "metadata": {},
   "outputs": [],
   "source": [
    "from selenium import webdriver\n",
    "\n",
    "driver_path = r\"C:\\Users\\Minahil Ashfaq\\OneDrive\\Documents\\chromedriver.exe\"\n",
    "# driver = webdriver.Chrome(driver_path)\n"
   ]
  },
  {
   "cell_type": "code",
   "execution_count": 8,
   "id": "07c1751a",
   "metadata": {},
   "outputs": [],
   "source": [
    "# from selenium import webdriver\n",
    "# path = r\"C:\\Users\\Minahil Ashfaq\\OneDrive\\Documents\\chromedriver.exe\"\n",
    "# # \"C:\\Users\\Minahil Ashfaq\\OneDrive\\Documents\\chromedriver.exe\"\n",
    "# driver = webdriver.Chrome(executable_path = path)\n",
    "\n",
    "driver.get(\"http://selenium.dev\")\n",
    "\n",
    "# driver.quit()"
   ]
  }
 ],
 "metadata": {
  "kernelspec": {
   "display_name": "Python 3",
   "language": "python",
   "name": "python3"
  },
  "language_info": {
   "codemirror_mode": {
    "name": "ipython",
    "version": 3
   },
   "file_extension": ".py",
   "mimetype": "text/x-python",
   "name": "python",
   "nbconvert_exporter": "python",
   "pygments_lexer": "ipython3",
   "version": "3.8.8"
  }
 },
 "nbformat": 4,
 "nbformat_minor": 5
}
