{
 "cells": [
  {
   "cell_type": "code",
   "execution_count": 4,
   "id": "74286645",
   "metadata": {},
   "outputs": [],
   "source": [
    "from selenium import webdriver\n",
    "from selenium.webdriver.support.ui import Select\n",
    "from selenium.webdriver.chrome.service import Service\n",
    "from selenium.webdriver.chrome.options import Options\n",
    "from selenium.webdriver.common.by import By\n",
    "from selenium.webdriver.support.ui import WebDriverWait\n",
    "from selenium.webdriver.support import expected_conditions as EC\n",
    "from selenium.webdriver.common.by import By\n",
    "from selenium.webdriver.common.action_chains import ActionChains\n",
    "from selenium.webdriver.support import expected_conditions\n",
    "from selenium.webdriver.support.wait import WebDriverWait\n",
    "from selenium.webdriver.common.keys import Keys\n",
    "from selenium.webdriver.common.desired_capabilities import DesiredCapabilities\n",
    "from webdriver_manager.chrome import ChromeDriverManager\n",
    "\n",
    "import numpy as np\n",
    "import pandas as pd\n",
    "import time"
   ]
  },
  {
   "cell_type": "code",
   "execution_count": 4,
   "id": "1d9590db",
   "metadata": {},
   "outputs": [],
   "source": [
    "href = '//li[@data-position=\"Abasyn University\"]/div[@class=\"card-listing-footer\"]/a[@class=\"read-more-arrow\"]'"
   ]
  },
  {
   "cell_type": "code",
   "execution_count": 1,
   "id": "27608087",
   "metadata": {},
   "outputs": [
    {
     "name": "stdout",
     "output_type": "stream",
     "text": [
      "https://www.hec.gov.pk/english/universities/pages/recognised.aspx\n"
     ]
    }
   ],
   "source": [
    "Url=\"https://www.hec.gov.pk/english/universities/pages/recognised.aspx\"\n",
    "print(Url)"
   ]
  },
  {
   "cell_type": "code",
   "execution_count": 7,
   "id": "47711e5f",
   "metadata": {},
   "outputs": [
    {
     "name": "stdout",
     "output_type": "stream",
     "text": [
      "https://www.hec.gov.pk//english/universities/Pages/KPK/Abasyn-University.aspx\n"
     ]
    }
   ],
   "source": [
    "chrome_options = Options()\n",
    "chrome_options.add_argument(\"--no-sandbox\")\n",
    "chrome_options.add_argument(\"--headless\")\n",
    "webdriver_service = Service() ## path to where you saved chromedriver binary\n",
    "driver = webdriver.Chrome()\n",
    "\n",
    "driver.get(Url)\n",
    "\n",
    "box = driver.find_elements(By.XPATH,href)\n",
    "\n",
    "for link in box:\n",
    "    print(link.get_attribute(\"href\"))"
   ]
  },
  {
   "cell_type": "code",
   "execution_count": 9,
   "id": "6b63bced",
   "metadata": {},
   "outputs": [
    {
     "data": {
      "text/plain": [
       "'https://www.hec.gov.pk//english/universities/Pages/KPK/Abasyn-University.aspx'"
      ]
     },
     "execution_count": 9,
     "metadata": {},
     "output_type": "execute_result"
    }
   ],
   "source": [
    "box[0].get_attribute(\"href\")"
   ]
  },
  {
   "cell_type": "code",
   "execution_count": 12,
   "id": "532bc0f1",
   "metadata": {},
   "outputs": [
    {
     "data": {
      "text/plain": [
       "<selenium.webdriver.remote.webelement.WebElement (session=\"ef5cf70193d7e462e15762d15f81fb84\", element=\"f.1B39186C833A4061611A02222549F144.d.45A78FA791E5C23401A1DE6271C8AB01.e.27\")>"
      ]
     },
     "execution_count": 12,
     "metadata": {},
     "output_type": "execute_result"
    }
   ],
   "source": [
    "chrome_options = Options()\n",
    "chrome_options.add_argument(\"--no-sandbox\")\n",
    "chrome_options.add_argument(\"--headless\")\n",
    "webdriver_service = Service() ## path to where you saved chromedriver binary\n",
    "driver = webdriver.Chrome()\n",
    "\n",
    "driver.get(Url)\n",
    "\n",
    "# Find the ul element by XPath\n",
    "ul_element = driver.find_element(By.XPATH,\"//ul[@id='ctl00_ctl37_g_61fe2fee_d6ec_433a_ac6a_52ab88585f53_ctl00_myUL']\")\n",
    "\n",
    "# Find all li elements within the ul element\n",
    "li_elements = ul_element.find_elements(By.XPATH,\".//li\")\n",
    "\n",
    "li_elements[0].find_element()\n",
    "\n",
    "\n",
    "# Iterate over each li element and interact with them as needed\n",
    "\n",
    "# # Remember to close the browser when done\n",
    "# driver.quit()"
   ]
  },
  {
   "cell_type": "code",
   "execution_count": 17,
   "id": "bb75deb4",
   "metadata": {},
   "outputs": [
    {
     "data": {
      "text/plain": [
       "526"
      ]
     },
     "execution_count": 17,
     "metadata": {},
     "output_type": "execute_result"
    }
   ],
   "source": [
    "len(li_elements)"
   ]
  },
  {
   "cell_type": "code",
   "execution_count": 17,
   "id": "a05c2258",
   "metadata": {},
   "outputs": [],
   "source": [
    "from selenium import webdriver\n",
    "from selenium.webdriver.chrome.service import Service as ChromeService\n",
    "from webdriver_manager.chrome import ChromeDriverManager\n",
    "from selenium.webdriver.chrome.options import Options\n",
    "\n",
    "\n",
    "PROXY = \"11.456.448.110:8080\"\n",
    "chrome_options = webdriver.ChromeOptions()\n",
    "chrome_options.add_argument('--proxy-server=%s' % PROXY)\n",
    "chrome = webdriver.Chrome(options=chrome_options)\n",
    "chrome.get(\"https://www.google.com\")"
   ]
  },
  {
   "cell_type": "code",
   "execution_count": 12,
   "id": "b653844b",
   "metadata": {},
   "outputs": [],
   "source": [
    "from selenium import webdriver\n",
    "from selenium.webdriver.chrome.service import Service as ChromeService\n",
    "from webdriver_manager.chrome import ChromeDriverManager\n",
    "from selenium.webdriver.chrome.options import Options\n",
    "\n",
    "options = webdriver.ChromeOptions()\n",
    "driver = webdriver.Chrome(options=options)\n",
    "# PROXY = \"11.456.448.110:8080\"\n",
    "# chrome_options = webdriver.Options()\n",
    "# chrome_options.add_argument('--proxy-server=%s' % PROXY)\n",
    "# chrome = webdriver.Chrome(chrome_options=chrome_options)\n",
    "# chrome.get(\"https://www.google.com\")"
   ]
  }
 ],
 "metadata": {
  "kernelspec": {
   "display_name": "Python 3",
   "language": "python",
   "name": "python3"
  },
  "language_info": {
   "codemirror_mode": {
    "name": "ipython",
    "version": 3
   },
   "file_extension": ".py",
   "mimetype": "text/x-python",
   "name": "python",
   "nbconvert_exporter": "python",
   "pygments_lexer": "ipython3",
   "version": "3.8.8"
  }
 },
 "nbformat": 4,
 "nbformat_minor": 5
}
