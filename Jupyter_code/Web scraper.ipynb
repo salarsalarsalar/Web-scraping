{
 "cells": [
  {
   "cell_type": "code",
   "execution_count": 1,
   "id": "4cdc8206",
   "metadata": {},
   "outputs": [],
   "source": [
    "import requests\n",
    "from bs4 import BeautifulSoup\n",
    "\n",
    "# URL of the BBC News website\n",
    "url = 'https://www.bbc.com/news'\n",
    "\n",
    "# Send a GET request to the URL\n",
    "response = requests.get(url)\n",
    "\n",
    "# Parse the HTML content of the webpage\n",
    "soup = BeautifulSoup(response.text, 'html.parser')\n",
    "\n",
    "# Find all the top story elements\n",
    "top_stories = soup.find_all('div', class_='gs-c-promo-body gel-1/2@xs gel-1/1@m gel-1/3@xl')\n",
    "\n",
    "# Extract the titles and links of the top stories and print them\n",
    "for story in top_stories:\n",
    "    title_element = story.find('h3', class_='gs-c-promo-heading__title gel-pica-bold nw-o-link-split__text')\n",
    "    link_element = story.find('a', class_='gs-c-promo-heading')\n",
    "    if title_element and link_element:\n",
    "        title = title_element.text.strip()\n",
    "        link = link_element['href']\n",
    "        print(f\"Title: {title}\\nLink: {link}\\n\")\n"
   ]
  },
  {
   "cell_type": "code",
   "execution_count": null,
   "id": "c63bf473",
   "metadata": {},
   "outputs": [],
   "source": []
  }
 ],
 "metadata": {
  "kernelspec": {
   "display_name": "Python 3",
   "language": "python",
   "name": "python3"
  },
  "language_info": {
   "codemirror_mode": {
    "name": "ipython",
    "version": 3
   },
   "file_extension": ".py",
   "mimetype": "text/x-python",
   "name": "python",
   "nbconvert_exporter": "python",
   "pygments_lexer": "ipython3",
   "version": "3.8.8"
  }
 },
 "nbformat": 4,
 "nbformat_minor": 5
}
