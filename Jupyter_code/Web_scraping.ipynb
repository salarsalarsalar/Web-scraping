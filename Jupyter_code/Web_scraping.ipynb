{
 "cells": [
  {
   "cell_type": "code",
   "execution_count": 2,
   "id": "d8c64f27",
   "metadata": {},
   "outputs": [],
   "source": [
    "from selenium import webdriver\n",
    "from selenium.webdriver.common.by import By\n",
    "from selenium.webdriver.common.action_chains import ActionChains\n",
    "from selenium.webdriver.support import expected_conditions\n",
    "from selenium.webdriver.support.wait import WebDriverWait\n",
    "from selenium.webdriver.common.keys import Keys\n",
    "from selenium.webdriver.common.desired_capabilities import DesiredCapabilities"
   ]
  },
  {
   "cell_type": "code",
   "execution_count": 7,
   "id": "354c6c06",
   "metadata": {},
   "outputs": [],
   "source": [
    "driver = webdriver.Firefox()"
   ]
  },
  {
   "cell_type": "code",
   "execution_count": 8,
   "id": "c488aac4",
   "metadata": {},
   "outputs": [],
   "source": [
    "driver.get(\"https://www.selenium.dev/selenium/web/web-form.html\")"
   ]
  },
  {
   "cell_type": "code",
   "execution_count": 10,
   "id": "ceb577f3",
   "metadata": {},
   "outputs": [
    {
     "data": {
      "text/plain": [
       "'Web form'"
      ]
     },
     "execution_count": 10,
     "metadata": {},
     "output_type": "execute_result"
    }
   ],
   "source": [
    "title = driver.title\n",
    "title"
   ]
  },
  {
   "cell_type": "code",
   "execution_count": 11,
   "id": "b84cdcd7",
   "metadata": {},
   "outputs": [],
   "source": [
    "text_box = driver.find_element(by=By.NAME, value=\"my-text\")\n",
    "submit_button = driver.find_element(by=By.CSS_SELECTOR, value=\"button\")"
   ]
  },
  {
   "cell_type": "code",
   "execution_count": 13,
   "id": "e94a5b05",
   "metadata": {},
   "outputs": [
    {
     "data": {
      "text/plain": [
       "<selenium.webdriver.remote.webelement.WebElement (session=\"e345e304-8946-4ca2-9239-a2b131935a75\", element=\"a105c524-e001-46f9-b225-8b0734b9cc3a\")>"
      ]
     },
     "execution_count": 13,
     "metadata": {},
     "output_type": "execute_result"
    }
   ],
   "source": [
    "submit_button"
   ]
  },
  {
   "cell_type": "code",
   "execution_count": 5,
   "id": "6e8f8019",
   "metadata": {},
   "outputs": [],
   "source": [
    "driver.get(\"http://selenium.dev\")\n",
    "\n",
    "# driver.quit()"
   ]
  },
  {
   "cell_type": "code",
   "execution_count": 14,
   "id": "a63be617",
   "metadata": {},
   "outputs": [],
   "source": [
    "driver.get(\"https://www.selenium.dev/selenium/web/web-form.html\")\n",
    "\n",
    "title = driver.title\n",
    "\n",
    "driver.implicitly_wait(0.5)\n",
    "\n",
    "text_box = driver.find_element(by=By.NAME, value=\"my-text\")\n",
    "submit_button = driver.find_element(by=By.CSS_SELECTOR, value=\"button\")\n",
    "\n",
    "text_box.send_keys(\"Selenium\")\n",
    "submit_button.click()\n",
    "\n",
    "message = driver.find_element(by=By.ID, value=\"message\")\n",
    "text = message.text\n",
    "\n",
    "driver.quit()"
   ]
  },
  {
   "cell_type": "code",
   "execution_count": 16,
   "id": "4289fb5a",
   "metadata": {},
   "outputs": [
    {
     "data": {
      "text/plain": [
       "'Received!'"
      ]
     },
     "execution_count": 16,
     "metadata": {},
     "output_type": "execute_result"
    }
   ],
   "source": [
    "text"
   ]
  },
  {
   "cell_type": "code",
   "execution_count": 17,
   "id": "ae3fec86",
   "metadata": {},
   "outputs": [
    {
     "ename": "AttributeError",
     "evalue": "'WebDriver' object has no attribute 'find_element_by_xpath'",
     "output_type": "error",
     "traceback": [
      "\u001b[1;31m---------------------------------------------------------------------------\u001b[0m",
      "\u001b[1;31mAttributeError\u001b[0m                            Traceback (most recent call last)",
      "\u001b[1;32m<ipython-input-17-b7679026e4cd>\u001b[0m in \u001b[0;36m<module>\u001b[1;34m\u001b[0m\n\u001b[0;32m     55\u001b[0m \u001b[1;33m\u001b[0m\u001b[0m\n\u001b[0;32m     56\u001b[0m \u001b[1;32mfor\u001b[0m \u001b[0mk\u001b[0m \u001b[1;32min\u001b[0m \u001b[0mrankings\u001b[0m\u001b[1;33m:\u001b[0m\u001b[1;33m\u001b[0m\u001b[1;33m\u001b[0m\u001b[0m\n\u001b[1;32m---> 57\u001b[1;33m     \u001b[0mtop10ranking\u001b[0m\u001b[1;33m[\u001b[0m\u001b[0mk\u001b[0m\u001b[1;33m]\u001b[0m \u001b[1;33m=\u001b[0m \u001b[0mbuildrank\u001b[0m\u001b[1;33m(\u001b[0m\u001b[0mk\u001b[0m\u001b[1;33m)\u001b[0m\u001b[1;33m\u001b[0m\u001b[1;33m\u001b[0m\u001b[0m\n\u001b[0m\u001b[0;32m     58\u001b[0m \u001b[1;33m\u001b[0m\u001b[0m\n\u001b[0;32m     59\u001b[0m \u001b[0mdriver\u001b[0m\u001b[1;33m.\u001b[0m\u001b[0mquit\u001b[0m\u001b[1;33m(\u001b[0m\u001b[1;33m)\u001b[0m\u001b[1;33m\u001b[0m\u001b[1;33m\u001b[0m\u001b[0m\n",
      "\u001b[1;32m<ipython-input-17-b7679026e4cd>\u001b[0m in \u001b[0;36mbuildrank\u001b[1;34m(type)\u001b[0m\n\u001b[0;32m     27\u001b[0m     \u001b[0mlabel\u001b[0m \u001b[1;33m=\u001b[0m \u001b[0mrankings\u001b[0m\u001b[1;33m[\u001b[0m\u001b[0mtype\u001b[0m\u001b[1;33m]\u001b[0m\u001b[1;33m[\u001b[0m\u001b[1;34m'label'\u001b[0m\u001b[1;33m]\u001b[0m\u001b[1;33m\u001b[0m\u001b[1;33m\u001b[0m\u001b[0m\n\u001b[0;32m     28\u001b[0m \u001b[1;33m\u001b[0m\u001b[0m\n\u001b[1;32m---> 29\u001b[1;33m     driver.find_element_by_xpath(\n\u001b[0m\u001b[0;32m     30\u001b[0m         f\"//div[@class='nba-stat-table']//table//thead//tr//th[@data-field='{field}']\").click()\n\u001b[0;32m     31\u001b[0m \u001b[1;33m\u001b[0m\u001b[0m\n",
      "\u001b[1;31mAttributeError\u001b[0m: 'WebDriver' object has no attribute 'find_element_by_xpath'"
     ]
    }
   ],
   "source": [
    "# -*- encoding: utf-8 -*-\n",
    "\n",
    "import requests\n",
    "import pandas as pd\n",
    "from bs4 import BeautifulSoup\n",
    "from selenium import webdriver\n",
    "from selenium.webdriver.firefox.options import Options\n",
    "import json\n",
    "\n",
    "# Grab content from URL (Pegar conteúdo HTML a partir da URL)\n",
    "url = \"https://stats.nba.com/players/traditional/?PerMode=Totals&Season=2019-20&SeasonType=Regular%20Season&sort=PLAYER_NAME&dir=-1\"\n",
    "top10ranking = {}\n",
    "\n",
    "rankings = {\n",
    "    '3points': {'field': 'FG3M', 'label': '3PM'},\n",
    "    'points': {'field': 'PTS', 'label': 'PTS'},\n",
    "    'assistants': {'field': 'AST', 'label': 'AST'},\n",
    "    'rebounds': {'field': 'REB', 'label': 'REB'},\n",
    "    'steals': {'field': 'STL', 'label': 'STL'},\n",
    "    'blocks': {'field': 'BLK', 'label': 'BLK'},\n",
    "}\n",
    "\n",
    "\n",
    "def buildrank(type):\n",
    "\n",
    "    field = rankings[type]['field']\n",
    "    label = rankings[type]['label']\n",
    "\n",
    "    driver.find_element_by_xpath(\n",
    "        f\"//div[@class='nba-stat-table']//table//thead//tr//th[@data-field='{field}']\").click()\n",
    "\n",
    "    element = driver.find_element_by_xpath(\n",
    "        \"//div[@class='nba-stat-table']//table\")\n",
    "    html_content = element.get_attribute('outerHTML')\n",
    "\n",
    "    # Parse HTML (Parsear o conteúdo HTML) - BeaultifulSoup\n",
    "    soup = BeautifulSoup(html_content, 'html.parser')\n",
    "    table = soup.find(name='table')\n",
    "\n",
    "    # Data Structure Conversion (Estruturar conteúdo em um Data Frame) - Pandas\n",
    "    df_full = pd.read_html(str(table))[0].head(10)\n",
    "    df = df_full[['Unnamed: 0', 'PLAYER', 'TEAM', label]]\n",
    "    df.columns = ['pos', 'player', 'team', 'total']\n",
    "\n",
    "    # Convert to Dict (Transformar os Dados em um Dicionário de dados próprio)\n",
    "    return df.to_dict('records')\n",
    "\n",
    "\n",
    "option = Options()\n",
    "option.headless = True\n",
    "driver = webdriver.Firefox(options=option)\n",
    "\n",
    "driver.get(url)\n",
    "driver.implicitly_wait(10)  # in seconds\n",
    "\n",
    "for k in rankings:\n",
    "    top10ranking[k] = buildrank(k)\n",
    "\n",
    "driver.quit()\n",
    "\n",
    "# Dump and Save to JSON file (Converter e salvar em um arquivo JSON)\n",
    "with open('ranking.json', 'w', encoding='utf-8') as jp:\n",
    "    js = json.dumps(top10ranking, indent=4)\n",
    "    jp.write(js)"
   ]
  }
 ],
 "metadata": {
  "kernelspec": {
   "display_name": "Python 3",
   "language": "python",
   "name": "python3"
  },
  "language_info": {
   "codemirror_mode": {
    "name": "ipython",
    "version": 3
   },
   "file_extension": ".py",
   "mimetype": "text/x-python",
   "name": "python",
   "nbconvert_exporter": "python",
   "pygments_lexer": "ipython3",
   "version": "3.8.8"
  }
 },
 "nbformat": 4,
 "nbformat_minor": 5
}
